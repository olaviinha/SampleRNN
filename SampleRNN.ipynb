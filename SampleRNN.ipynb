{
  "nbformat": 4,
  "nbformat_minor": 0,
  "metadata": {
    "colab": {
      "name": "SampleRNN.ipynb",
      "provenance": [],
      "collapsed_sections": [
        "ll7xFhzA4taK"
      ],
      "toc_visible": true,
      "authorship_tag": "ABX9TyPtZhqHll2AWcUUAfR8LUIS",
      "include_colab_link": true
    },
    "kernelspec": {
      "name": "python3",
      "display_name": "Python 3"
    },
    "accelerator": "GPU"
  },
  "cells": [
    {
      "cell_type": "markdown",
      "metadata": {
        "id": "view-in-github",
        "colab_type": "text"
      },
      "source": [
        "<a href=\"https://colab.research.google.com/github/olaviinha/SampleRNN-colab/blob/master/SampleRNN.ipynb\" target=\"_parent\"><img src=\"https://colab.research.google.com/assets/colab-badge.svg\" alt=\"Open In Colab\"/></a>"
      ]
    },
    {
      "cell_type": "markdown",
      "metadata": {
        "id": "aTImf9h9KFeB",
        "colab_type": "text"
      },
      "source": [
        "## SampleRNN – Train & generate (44.1kHz sample rate)\n",
        "This is a slightly modified version of [SampleRNN](https://github.com/Unisound/SampleRNN) to be run in Google Colab and to store the data in your Google Drive.\n",
        "\n",
        "Trains from a directory of audio files and generates WAV every 10 steps.\n",
        "\n",
        "#### Howto:\n",
        "*   Set all direcotries (`***_dir` variables under <i>Settings</i>) relative to your Google Drive root.\n",
        "*   Select <i>Runtime > Run all</i> from the menu."
      ]
    },
    {
      "cell_type": "code",
      "metadata": {
        "id": "U2dXpLiIidv6",
        "colab_type": "code",
        "cellView": "form",
        "colab": {}
      },
      "source": [
        "#@title Mount Drive & clone repository\n",
        "\n",
        "%tensorflow_version 1.x\n",
        "from google.colab import drive\n",
        "drive.mount('/content/drive')\n",
        "\n",
        "!git clone https://github.com/olaviinha/SampleRNN.git /content/SampleRNN\n",
        "%cd /content/SampleRNN\n",
        "!git pull"
      ],
      "execution_count": null,
      "outputs": []
    },
    {
      "cell_type": "code",
      "metadata": {
        "id": "o8SxOI-FxfUl",
        "colab_type": "code",
        "cellView": "form",
        "colab": {}
      },
      "source": [
        "corpus_dir = \"ai/input/audiofiles\" #@param {type:\"string\"}\n",
        "checkpoints_dir = \"ai/train/samplernn\" #@param {type:\"string\"}\n",
        "output_dir = \"ai/output/samplernn\" #@param {type:\"string\"}\n",
        "steps = 100000 #@param {type:\"slider\", min:50000, max:500000, step:50000}\n",
        "checkpoint_every = 50 #@param {type:\"slider\", min:10, max:1000, step:10}\n",
        "#generate_wav_every = 10 #@param {type:\"slider\", min:10, max:5000, step:10}\n",
        "\n",
        "drive_root = \"/content/drive/My Drive/\"\n",
        "corpus_dir = drive_root+corpus_dir\n",
        "checkpoints_dir = drive_root+checkpoints_dir\n",
        "output_dir = drive_root+checkpoints_dir"
      ],
      "execution_count": null,
      "outputs": []
    },
    {
      "cell_type": "markdown",
      "metadata": {
        "id": "ll7xFhzA4taK",
        "colab_type": "text"
      },
      "source": [
        "### Install"
      ]
    },
    {
      "cell_type": "code",
      "metadata": {
        "id": "mFWuFsAYRUDE",
        "colab_type": "code",
        "colab": {}
      },
      "source": [
        "!pip uninstall -y torch\n",
        "!pip uninstall -y keras\n",
        "!curl -s https://course.fast.ai/setup/colab | bash"
      ],
      "execution_count": null,
      "outputs": []
    },
    {
      "cell_type": "markdown",
      "metadata": {
        "id": "1nJ0Eaql41KT",
        "colab_type": "text"
      },
      "source": [
        "### Execute"
      ]
    },
    {
      "cell_type": "code",
      "metadata": {
        "id": "NNLSq4qk3iGI",
        "colab_type": "code",
        "colab": {}
      },
      "source": [
        "!python train.py \\\n",
        "\t--num_gpus=1 \\\n",
        "\t--batch_size=64 \\\n",
        "\t--data_dir=\"{corpus_dir}\" \\\n",
        "\t--logdir_root=\"{checkpoints_dir}\" \\\n",
        "  --output_dir=\"{output_dir}\" \\\n",
        "\t--checkpoint_every={checkpoint_every} \\\n",
        "\t--num_steps={steps} \\\n",
        "\t--sample_size=102408 \\\n",
        "\t--sample_rate=44100 \\\n",
        "\t--silence_threshold=0.1 \\\n",
        "\t--optimizer=adam \\\n",
        "\t--big_frame_size=8 \\\n",
        "\t--frame_size=2 \\\n",
        "\t--q_levels=258 \\\n",
        "\t--rnn_type=GRU \\\n",
        "\t--dim=1024 \\\n",
        "  --n_rnn=1 \\\n",
        "\t--seq_len=520 \\\n",
        "\t--emb_size=256 \\"
      ],
      "execution_count": null,
      "outputs": []
    }
  ]
}